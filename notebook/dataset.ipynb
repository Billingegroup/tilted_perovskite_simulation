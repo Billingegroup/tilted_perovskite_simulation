{
 "cells": [
  {
   "cell_type": "code",
   "execution_count": 1,
   "metadata": {},
   "outputs": [],
   "source": [
    "import sys\n",
    "sys.path.append('../')\n",
    "import numpy as np\n",
    "import os\n",
    "from tqdm import tqdm\n",
    "import multiprocessing as mp\n",
    "from multiprocessing import Pool, cpu_count\n",
    "from tilted_perovskite_simulation.perovskite import Perovskite\n",
    "%load_ext line_profiler\n",
    "%load_ext autoreload\n",
    "%autoreload 2"
   ]
  },
  {
   "cell_type": "markdown",
   "metadata": {},
   "source": [
    "# Generate CIF data"
   ]
  },
  {
   "cell_type": "code",
   "execution_count": 2,
   "metadata": {},
   "outputs": [],
   "source": [
    "def write_single_cif(args):\n",
    "    tilt_angles, lattice_param, atom_species, uiso, foldername, filename = args\n",
    "    perovskite = Perovskite(tilt_angles=tilt_angles, lattice_param=lattice_param, atom_species=atom_species, uiso=uiso)\n",
    "    cif_filedir = '{}/{}_{:.5f}_{:.5f}_{:.5f}.cif'.format(\n",
    "        foldername, filename, tilt_angles[0], tilt_angles[1], tilt_angles[2])\n",
    "    perovskite.save_structure_to_cif(cif_filedir)\n",
    "    \n",
    "def construct_tasks(num_samples: int, \n",
    "                    tilt_range: float,\n",
    "                    lattice_param: float,\n",
    "                    atom_species: list,\n",
    "                    uiso: list,\n",
    "                    foldername: str,\n",
    "                    filename: str,\n",
    "                    random_seed: int = 0,\n",
    "                    ):\n",
    "    np.random.seed(random_seed)\n",
    "    if not os.path.exists(foldername):\n",
    "        os.makedirs(foldername)\n",
    "    tasks = []\n",
    "    for _ in range(num_samples):\n",
    "        tilt_angles = np.random.uniform(-tilt_range, tilt_range, size=3)\n",
    "        tasks.append((tilt_angles, lattice_param, atom_species, uiso, foldername, filename))\n",
    "    return tasks"
   ]
  },
  {
   "cell_type": "code",
   "execution_count": 3,
   "metadata": {},
   "outputs": [
    {
     "name": "stderr",
     "output_type": "stream",
     "text": [
      "100%|██████████| 100000/100000 [02:29<00:00, 670.23it/s]\n"
     ]
    }
   ],
   "source": [
    "num_samples = 100000 # 100,000\n",
    "tilt_range = 15\n",
    "lattice_param = 4.0  # lattice parameter in Å\n",
    "atom_species = [\"Ca\", \"Ti\", \"O\"]  # in the order of ABX\n",
    "uiso = np.array([0.005, 0.003, 0.01])  # in the order of ABX\n",
    "foldername = \"../data/cif\"\n",
    "filename = 'Perov'\n",
    "\n",
    "tasks = construct_tasks(num_samples, tilt_range, lattice_param, atom_species, uiso, foldername, filename)\n",
    "with Pool(processes=cpu_count()) as pool:\n",
    "    _ = list(tqdm(pool.imap(write_single_cif, tasks), total=len(tasks)))"
   ]
  },
  {
   "cell_type": "markdown",
   "metadata": {},
   "source": [
    "# Generate PDF data"
   ]
  },
  {
   "cell_type": "code",
   "execution_count": 7,
   "metadata": {},
   "outputs": [
    {
     "name": "stdout",
     "output_type": "stream",
     "text": [
      "The line_profiler extension is already loaded. To reload it, use:\n",
      "  %reload_ext line_profiler\n",
      "The autoreload extension is already loaded. To reload it, use:\n",
      "  %reload_ext autoreload\n"
     ]
    }
   ],
   "source": [
    "import sys\n",
    "sys.path.append('../')\n",
    "import numpy as np\n",
    "import os\n",
    "import glob\n",
    "from pathlib import Path\n",
    "from diffpy.Structure import loadStructure\n",
    "from diffpy.srreal.pdfcalculator import PDFCalculator\n",
    "from pathlib import Path\n",
    "from sympy import *\n",
    "from typing import *\n",
    "from tqdm import tqdm\n",
    "import multiprocessing as mp\n",
    "from multiprocessing import Pool, cpu_count\n",
    "from tilted_perovskite_simulation.data_utils import write_single_pdf\n",
    "from tilted_perovskite_simulation.perovskite import Perovskite\n",
    "%load_ext line_profiler\n",
    "%load_ext autoreload\n",
    "%autoreload 2"
   ]
  },
  {
   "cell_type": "code",
   "execution_count": 8,
   "metadata": {},
   "outputs": [],
   "source": [
    "def construct_tasks(cif_folder_dir: str, pdf_folder_dir: str, pc_cfg: dict):\n",
    "    if not os.path.exists(pdf_folder_dir):\n",
    "        os.makedirs(pdf_folder_dir)\n",
    "    tasks = []\n",
    "    for cif_file_dir in glob.glob(\"{}/*.cif\".format(cif_folder_dir)):\n",
    "        cif_file_name = os.path.basename(cif_file_dir)\n",
    "        pdf_file_dir = Path(pdf_folder_dir, cif_file_name).with_suffix(\".gr\")\n",
    "        tasks.append((cif_file_dir, pdf_file_dir, pc_cfg))\n",
    "    return tasks"
   ]
  },
  {
   "cell_type": "code",
   "execution_count": 9,
   "metadata": {},
   "outputs": [
    {
     "name": "stderr",
     "output_type": "stream",
     "text": [
      "100%|██████████| 100000/100000 [06:00<00:00, 277.46it/s]\n"
     ]
    }
   ],
   "source": [
    "pc_cfg = {\n",
    "    \"rmax\": 30,\n",
    "    \"rstep\": 0.01,\n",
    "    \"qmin\": 0.6,\n",
    "    \"qmax\": 24,\n",
    "    \"qdamp\": 0.03,\n",
    "    \"qbroad\": 0.01,\n",
    "    \"delta2\": 2.1,\n",
    "}\n",
    "\n",
    "cif_folder_dir = '../data/cif'\n",
    "pdf_folder_dir = '../data/pdf'\n",
    "\n",
    "mp.set_start_method('spawn', force=True)\n",
    "tasks = construct_tasks(cif_folder_dir, pdf_folder_dir, pc_cfg)\n",
    "with Pool(processes=cpu_count()) as pool:\n",
    "    _ = list(tqdm(pool.imap(write_single_pdf, tasks), total=len(tasks)))"
   ]
  },
  {
   "cell_type": "markdown",
   "metadata": {},
   "source": [
    "# Experimental Data"
   ]
  },
  {
   "cell_type": "markdown",
   "metadata": {},
   "source": [
    "### Sandra's Prediction"
   ]
  },
  {
   "cell_type": "code",
   "execution_count": 17,
   "metadata": {},
   "outputs": [
    {
     "data": {
      "text/plain": [
       "['GM8_7.60_-9.70_-9.70', 7.6, -9.7, -9.7]"
      ]
     },
     "execution_count": 17,
     "metadata": {},
     "output_type": "execute_result"
    }
   ],
   "source": [
    "lattice_a = 3.91  # lattice parameter in Å\n",
    "elements = [\"Ca\", \"Ti\", \"O\"]  # in the order of ABX\n",
    "Uisoequiv = np.array([5.18344632e-03, 2.69926865e-03, 1.04105649e-02])  # in the order of ABX\n",
    "filename = 'GM'\n",
    "amp_range = [-15, 15]\n",
    "foldername = \"../data/real\"\n",
    "signed_amplitudes = np.array([7.6, -9.7, -9.7])\n",
    "glazer_system = calc_general_gm_from_amp(signed_amplitudes)\n",
    "args = (glazer_system, signed_amplitudes, lattice_a, elements, Uisoequiv, foldername, filename)\n",
    "\n",
    "tasks = construct_tasks(num_samples, amp_range, lattice_a, elements, Uisoequiv, foldername, filename)\n",
    "write_single_cif(args)"
   ]
  },
  {
   "cell_type": "markdown",
   "metadata": {},
   "source": [
    "### My Prediction"
   ]
  },
  {
   "cell_type": "code",
   "execution_count": 16,
   "metadata": {},
   "outputs": [
    {
     "data": {
      "text/plain": [
       "['GM4_11.99_8.34_-11.55', 11.98727, 8.341632, -11.547309]"
      ]
     },
     "execution_count": 16,
     "metadata": {},
     "output_type": "execute_result"
    }
   ],
   "source": [
    "lattice_a = 3.91  # lattice parameter in Å\n",
    "elements = [\"Ca\", \"Ti\", \"O\"]  # in the order of ABX\n",
    "Uisoequiv = np.array([5.18344632e-03, 2.69926865e-03, 1.04105649e-02])  # in the order of ABX\n",
    "filename = 'GM'\n",
    "amp_range = [-15, 15]\n",
    "foldername = \"../data/real\"\n",
    "#signed_amplitudes = np.array([10.49237, 6.6551566, -11.7556925])\n",
    "signed_amplitudes = np.array([11.98727, 8.341632, -11.547309])\n",
    "\n",
    "glazer_system = calc_general_gm_from_amp(signed_amplitudes)\n",
    "args = (glazer_system, signed_amplitudes, lattice_a, elements, Uisoequiv, foldername, filename)\n",
    "\n",
    "tasks = construct_tasks(num_samples, amp_range, lattice_a, elements, Uisoequiv, foldername, filename)\n",
    "write_single_cif(args)"
   ]
  },
  {
   "cell_type": "markdown",
   "metadata": {},
   "source": [
    "### Generate PDF"
   ]
  },
  {
   "cell_type": "code",
   "execution_count": 18,
   "metadata": {},
   "outputs": [],
   "source": [
    "from glazer_mode_mining.data_utils import write_multiple_pdf\n",
    "pc_cfg = {\n",
    "    \"rmax\": 30,\n",
    "    \"rstep\": 0.01,\n",
    "    \"qmin\": 0.6,\n",
    "    \"qmax\": 23.6,\n",
    "    \"qdamp\": 0.0291601718936,\n",
    "    \"qbroad\": 0.0103215402787,\n",
    "    \"delta2\": 2.1261,\n",
    "}\n",
    "write_multiple_pdf('../data/real', '../data/real', pc_cfg)"
   ]
  }
 ],
 "metadata": {
  "kernelspec": {
   "display_name": "diffpy-cmi",
   "language": "python",
   "name": "python3"
  },
  "language_info": {
   "codemirror_mode": {
    "name": "ipython",
    "version": 3
   },
   "file_extension": ".py",
   "mimetype": "text/x-python",
   "name": "python",
   "nbconvert_exporter": "python",
   "pygments_lexer": "ipython3",
   "version": "3.7.16"
  },
  "orig_nbformat": 4
 },
 "nbformat": 4,
 "nbformat_minor": 2
}
